{
 "cells": [
  {
   "cell_type": "code",
   "execution_count": 5,
   "metadata": {},
   "outputs": [
    {
     "name": "stdout",
     "output_type": "stream",
     "text": [
      "[1, 7, 9]\n",
      "(3,)\n",
      "First item in array: Alex\n",
      "[[1, 2, 4], [9, 22, 57], [34, 32, 21]]\n"
     ]
    }
   ],
   "source": [
    "import numpy as np\n",
    "mylist=[1, 7, 9]\n",
    "print(mylist)\n",
    "\n",
    "myarray=np.array(mylist)\n",
    "print(myarray.shape)\n",
    "\n",
    "mylist=['Alex', 'TV', 'Tom', 55, 77, 99, 'cool']\n",
    "myarray=np.array(mylist)\n",
    "\n",
    "#This statement has a Type error because of the data type.\n",
    "#print('First item in array: %d' % myarray[0])\n",
    "\n",
    "#However the following statement does not cause a type error.\n",
    "\n",
    "print('First item in array: %s' % myarray[0])\n",
    "\n",
    "#Matrix made of list of lists.\n",
    "#mymatrix=[[1, 2, 4], [9, 22, 57], [34, 32, 21]]\n",
    "\n",
    "#Same matrix in more readable form.\n",
    "mymatrix=[[1, 2, 4],\n",
    "          [9, 22, 57],\n",
    "          [34, 32, 21]]       \n",
    "\n",
    "print(mymatrix)\n",
    "\n"
   ]
  },
  {
   "cell_type": "code",
   "execution_count": null,
   "metadata": {},
   "outputs": [],
   "source": []
  },
  {
   "cell_type": "code",
   "execution_count": null,
   "metadata": {},
   "outputs": [],
   "source": []
  }
 ],
 "metadata": {
  "kernelspec": {
   "display_name": "Python 3",
   "language": "python",
   "name": "python3"
  },
  "language_info": {
   "codemirror_mode": {
    "name": "ipython",
    "version": 3
   },
   "file_extension": ".py",
   "mimetype": "text/x-python",
   "name": "python",
   "nbconvert_exporter": "python",
   "pygments_lexer": "ipython3",
   "version": "3.7.3"
  }
 },
 "nbformat": 4,
 "nbformat_minor": 2
}
